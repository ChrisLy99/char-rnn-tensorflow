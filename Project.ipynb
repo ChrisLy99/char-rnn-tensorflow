{
 "cells": [
  {
   "cell_type": "code",
   "execution_count": 1,
   "metadata": {},
   "outputs": [],
   "source": [
    "import subprocess"
   ]
  },
  {
   "cell_type": "code",
   "execution_count": 16,
   "metadata": {},
   "outputs": [],
   "source": [
    "import json"
   ]
  },
  {
   "cell_type": "code",
   "execution_count": 137,
   "metadata": {},
   "outputs": [],
   "source": [
    "from six.moves import cPickle"
   ]
  },
  {
   "cell_type": "markdown",
   "metadata": {},
   "source": [
    "Checking the vocabulary of Twitter data"
   ]
  },
  {
   "cell_type": "code",
   "execution_count": 140,
   "metadata": {},
   "outputs": [],
   "source": [
    "with open('models/twitter_tweak/chars_vocab.pkl', 'rb') as f:\n",
    "    chars, vocab = cPickle.load(f)"
   ]
  },
  {
   "cell_type": "code",
   "execution_count": 143,
   "metadata": {},
   "outputs": [
    {
     "data": {
      "text/plain": [
       "1248"
      ]
     },
     "execution_count": 143,
     "metadata": {},
     "output_type": "execute_result"
    }
   ],
   "source": [
    "len(chars)"
   ]
  },
  {
   "cell_type": "code",
   "execution_count": 142,
   "metadata": {},
   "outputs": [
    {
     "data": {
      "text/plain": [
       "{' ': 0,\n",
       " 'e': 1,\n",
       " 't': 2,\n",
       " 'o': 3,\n",
       " 'a': 4,\n",
       " 'i': 5,\n",
       " 's': 6,\n",
       " 'n': 7,\n",
       " 'r': 8,\n",
       " 'h': 9,\n",
       " 'l': 10,\n",
       " 'd': 11,\n",
       " 'c': 12,\n",
       " 'u': 13,\n",
       " 'p': 14,\n",
       " 'm': 15,\n",
       " 'g': 16,\n",
       " 'f': 17,\n",
       " 'y': 18,\n",
       " '\\n': 19,\n",
       " 'T': 20,\n",
       " 'w': 21,\n",
       " 'v': 22,\n",
       " ':': 23,\n",
       " '.': 24,\n",
       " 'b': 25,\n",
       " 'R': 26,\n",
       " '/': 27,\n",
       " '@': 28,\n",
       " 'C': 29,\n",
       " 'k': 30,\n",
       " 'I': 31,\n",
       " 'D': 32,\n",
       " 'S': 33,\n",
       " 'A': 34,\n",
       " '1': 35,\n",
       " '…': 36,\n",
       " ',': 37,\n",
       " 'O': 38,\n",
       " '#': 39,\n",
       " 'N': 40,\n",
       " '9': 41,\n",
       " 'M': 42,\n",
       " 'P': 43,\n",
       " 'V': 44,\n",
       " '0': 45,\n",
       " 'E': 46,\n",
       " 'B': 47,\n",
       " '-': 48,\n",
       " 'H': 49,\n",
       " 'W': 50,\n",
       " 'G': 51,\n",
       " 'L': 52,\n",
       " 'F': 53,\n",
       " '2': 54,\n",
       " 'U': 55,\n",
       " 'x': 56,\n",
       " 'j': 57,\n",
       " 'J': 58,\n",
       " \"'\": 59,\n",
       " 'K': 60,\n",
       " '’': 61,\n",
       " 'z': 62,\n",
       " 'Y': 63,\n",
       " '3': 64,\n",
       " '5': 65,\n",
       " '4': 66,\n",
       " '_': 67,\n",
       " '7': 68,\n",
       " '6': 69,\n",
       " 'q': 70,\n",
       " '8': 71,\n",
       " '!': 72,\n",
       " '\"': 73,\n",
       " '?': 74,\n",
       " 'Z': 75,\n",
       " 'Q': 76,\n",
       " ';': 77,\n",
       " 'X': 78,\n",
       " '&': 79,\n",
       " '“': 80,\n",
       " '(': 81,\n",
       " ')': 82,\n",
       " '”': 83,\n",
       " '%': 84,\n",
       " '—': 85,\n",
       " '*': 86,\n",
       " '$': 87,\n",
       " '️': 88,\n",
       " '|': 89,\n",
       " '‘': 90,\n",
       " '\\xa0': 91,\n",
       " '+': 92,\n",
       " '😂': 93,\n",
       " '–': 94,\n",
       " '\\u2066': 95,\n",
       " '👇': 96,\n",
       " '\\u2069': 97,\n",
       " '🙏': 98,\n",
       " '👏': 99,\n",
       " '[': 100,\n",
       " ']': 101,\n",
       " '•': 102,\n",
       " '🚨': 103,\n",
       " '\\u200d': 104,\n",
       " '😭': 105,\n",
       " '🤣': 106,\n",
       " '🇸': 107,\n",
       " '🇺': 108,\n",
       " '£': 109,\n",
       " '=': 110,\n",
       " '🏻': 111,\n",
       " '🤔': 112,\n",
       " '~': 113,\n",
       " 'ー': 114,\n",
       " '❤': 115,\n",
       " '🔥': 116,\n",
       " '😷': 117,\n",
       " '⃣': 118,\n",
       " '🏼': 119,\n",
       " '🏾': 120,\n",
       " '🤦': 121,\n",
       " '🦠': 122,\n",
       " '🇳': 123,\n",
       " '👉': 124,\n",
       " '⚠': 125,\n",
       " '🏽': 126,\n",
       " '😡': 127,\n",
       " '➡': 128,\n",
       " '🇪': 129,\n",
       " '🙄': 130,\n",
       " '♂': 131,\n",
       " '♀': 132,\n",
       " '✅': 133,\n",
       " 'é': 134,\n",
       " '🇮': 135,\n",
       " 'ا': 136,\n",
       " '‼': 137,\n",
       " '▪': 138,\n",
       " '💔': 139,\n",
       " '🇬': 140,\n",
       " '🇷': 141,\n",
       " '🇧': 142,\n",
       " '🏿': 143,\n",
       " '🤬': 144,\n",
       " '💥': 145,\n",
       " '🇩': 146,\n",
       " '🇦': 147,\n",
       " '👍': 148,\n",
       " '🇨': 149,\n",
       " 'ा': 150,\n",
       " '😢': 151,\n",
       " '⬇': 152,\n",
       " '😳': 153,\n",
       " '💪': 154,\n",
       " '🙌': 155,\n",
       " '🇰': 156,\n",
       " 'र': 157,\n",
       " '👀': 158,\n",
       " '📢': 159,\n",
       " '🤷': 160,\n",
       " 'و': 161,\n",
       " '🇹': 162,\n",
       " 'ن': 163,\n",
       " '📌': 164,\n",
       " '❌': 165,\n",
       " '🥺': 166,\n",
       " '€': 167,\n",
       " '💙': 168,\n",
       " 'ل': 169,\n",
       " '😍': 170,\n",
       " '✨': 171,\n",
       " 'ो': 172,\n",
       " '்': 173,\n",
       " '💩': 174,\n",
       " '🙃': 175,\n",
       " '🔴': 176,\n",
       " '₹': 177,\n",
       " '😩': 178,\n",
       " '\\xad': 179,\n",
       " '🇵': 180,\n",
       " '⭐': 181,\n",
       " '🇿': 182,\n",
       " '🌍': 183,\n",
       " '😔': 184,\n",
       " '🔹': 185,\n",
       " 'स': 186,\n",
       " '🧐': 187,\n",
       " 'म': 188,\n",
       " '💯': 189,\n",
       " '°': 190,\n",
       " '😊': 191,\n",
       " '🇲': 192,\n",
       " '👩': 193,\n",
       " '🗣': 194,\n",
       " '🏴': 195,\n",
       " '\\U000e0067': 196,\n",
       " 'व': 197,\n",
       " '┳': 198,\n",
       " '┻': 199,\n",
       " '👌': 200,\n",
       " 'क': 201,\n",
       " 'े': 202,\n",
       " '❗': 203,\n",
       " '🤡': 204,\n",
       " '💀': 205,\n",
       " '\\U000e0062': 206,\n",
       " '\\U000e007f': 207,\n",
       " '\\u200b': 208,\n",
       " '📣': 209,\n",
       " '⚡': 210,\n",
       " '😉': 211,\n",
       " '𝘀': 212,\n",
       " 'ी': 213,\n",
       " '\\U000e0073': 214,\n",
       " '☠': 215,\n",
       " '्': 216,\n",
       " 'द': 217,\n",
       " 'ि': 218,\n",
       " '↗': 219,\n",
       " '🇼': 220,\n",
       " '🇭': 221,\n",
       " 'á': 222,\n",
       " '😁': 223,\n",
       " '✊': 224,\n",
       " '😠': 225,\n",
       " '𝗮': 226,\n",
       " 'ت': 227,\n",
       " '♥': 228,\n",
       " '🥴': 229,\n",
       " '🌎': 230,\n",
       " '🧼': 231,\n",
       " '🇱': 232,\n",
       " '💜': 233,\n",
       " '▶': 234,\n",
       " '🌟': 235,\n",
       " '𝗶': 236,\n",
       " 'ब': 237,\n",
       " '👵': 238,\n",
       " '📺': 239,\n",
       " 'ر': 240,\n",
       " '👎': 241,\n",
       " '😆': 242,\n",
       " '✔': 243,\n",
       " 'ह': 244,\n",
       " 'ي': 245,\n",
       " '\\U000e0063': 246,\n",
       " '\\U000e0074': 247,\n",
       " '🔸': 248,\n",
       " 'ó': 249,\n",
       " 'م': 250,\n",
       " 'ज': 251,\n",
       " '🎉': 252,\n",
       " '🖕': 253,\n",
       " '💻': 254,\n",
       " '😅': 255,\n",
       " '𝘁': 256,\n",
       " '😬': 257,\n",
       " '👨': 258,\n",
       " '🥰': 259,\n",
       " 'ி': 260,\n",
       " 'ं': 261,\n",
       " 'س': 262,\n",
       " '🇴': 263,\n",
       " '🎙': 264,\n",
       " '⬆': 265,\n",
       " '🤩': 266,\n",
       " 'ா': 267,\n",
       " '💕': 268,\n",
       " '⚕': 269,\n",
       " '✈': 270,\n",
       " '🙈': 271,\n",
       " 'ك': 272,\n",
       " '🌹': 273,\n",
       " '😑': 274,\n",
       " '🌐': 275,\n",
       " '📈': 276,\n",
       " 'க': 277,\n",
       " '𝗲': 278,\n",
       " 'ल': 279,\n",
       " '❓': 280,\n",
       " '🥳': 281,\n",
       " '\\u2063': 282,\n",
       " 'न': 283,\n",
       " '👋': 284,\n",
       " '😥': 285,\n",
       " '🛑': 286,\n",
       " 'ñ': 287,\n",
       " 'வ': 288,\n",
       " 'ப': 289,\n",
       " '💖': 290,\n",
       " 'í': 291,\n",
       " 'य': 292,\n",
       " 'น': 293,\n",
       " 'प': 294,\n",
       " '⚽': 295,\n",
       " '💡': 296,\n",
       " '🙂': 297,\n",
       " '⚫': 298,\n",
       " '☝': 299,\n",
       " '🖤': 300,\n",
       " '✌': 301,\n",
       " '⠀': 302,\n",
       " '⁉': 303,\n",
       " '😪': 304,\n",
       " '^': 305,\n",
       " 'ு': 306,\n",
       " 'ர': 307,\n",
       " '😱': 308,\n",
       " 'त': 309,\n",
       " '😮': 310,\n",
       " 'ع': 311,\n",
       " '🇫': 312,\n",
       " '😤': 313,\n",
       " '͟': 314,\n",
       " '📍': 315,\n",
       " 'ü': 316,\n",
       " '🧯': 317,\n",
       " '🧪': 318,\n",
       " '🤗': 319,\n",
       " '⏰': 320,\n",
       " 'ب': 321,\n",
       " '🤢': 322,\n",
       " '🔊': 323,\n",
       " '😞': 324,\n",
       " '😜': 325,\n",
       " '💉': 326,\n",
       " '🤨': 327,\n",
       " '😎': 328,\n",
       " '🖋': 329,\n",
       " '{': 330,\n",
       " '}': 331,\n",
       " '💚': 332,\n",
       " '🔗': 333,\n",
       " '⤵': 334,\n",
       " '➕': 335,\n",
       " '𝗼': 336,\n",
       " '𝗻': 337,\n",
       " '𝘂': 338,\n",
       " '𝗿': 339,\n",
       " '💰': 340,\n",
       " '⭕': 341,\n",
       " '☺': 342,\n",
       " '🚫': 343,\n",
       " '😘': 344,\n",
       " '💦': 345,\n",
       " '̸': 346,\n",
       " '☑': 347,\n",
       " '🇾': 348,\n",
       " '😀': 349,\n",
       " '\\\\': 350,\n",
       " '👊': 351,\n",
       " 'श': 352,\n",
       " '🍎': 353,\n",
       " '🏡': 354,\n",
       " '🤮': 355,\n",
       " '📨': 356,\n",
       " '☹': 357,\n",
       " 'ம': 358,\n",
       " 'ை': 359,\n",
       " '𝗵': 360,\n",
       " '👑': 361,\n",
       " 'ح': 362,\n",
       " 'ق': 363,\n",
       " 'د': 364,\n",
       " '📝': 365,\n",
       " '💐': 366,\n",
       " '·': 367,\n",
       " '💫': 368,\n",
       " '🔘': 369,\n",
       " '●': 370,\n",
       " '😋': 371,\n",
       " '🤭': 372,\n",
       " '📰': 373,\n",
       " '📸': 374,\n",
       " '🇯': 375,\n",
       " '→': 376,\n",
       " '👁': 377,\n",
       " 'ந': 378,\n",
       " '💊': 379,\n",
       " '™': 380,\n",
       " 'ı': 381,\n",
       " '𝗡': 382,\n",
       " 'ग': 383,\n",
       " '☕': 384,\n",
       " '😄': 385,\n",
       " '🏥': 386,\n",
       " '🤥': 387,\n",
       " 'ه': 388,\n",
       " 'ش': 389,\n",
       " '🧠': 390,\n",
       " '🍾': 391,\n",
       " 'ِ': 392,\n",
       " '세': 393,\n",
       " '🧵': 394,\n",
       " '👐': 395,\n",
       " '\\r': 396,\n",
       " '👈': 397,\n",
       " '₦': 398,\n",
       " '»': 399,\n",
       " '😯': 400,\n",
       " '🏠': 401,\n",
       " '😏': 402,\n",
       " '🤝': 403,\n",
       " '🤒': 404,\n",
       " '🤪': 405,\n",
       " 'ண': 406,\n",
       " 'ல': 407,\n",
       " '𝗴': 408,\n",
       " '😕': 409,\n",
       " '🦋': 410,\n",
       " 'إ': 411,\n",
       " '⚾': 412,\n",
       " '💓': 413,\n",
       " '🔺': 414,\n",
       " '✳': 415,\n",
       " 'َ': 416,\n",
       " '\\U0001fa78': 417,\n",
       " 'भ': 418,\n",
       " '𝐒': 419,\n",
       " '\\u200a': 420,\n",
       " 'ᵃ': 421,\n",
       " '👿': 422,\n",
       " '🙆': 423,\n",
       " '🌿': 424,\n",
       " '😰': 425,\n",
       " '😫': 426,\n",
       " '«': 427,\n",
       " '⚪': 428,\n",
       " '🤲': 429,\n",
       " '📖': 430,\n",
       " '✝': 431,\n",
       " '🏃': 432,\n",
       " 'ロ': 433,\n",
       " 'ス': 434,\n",
       " '🎧': 435,\n",
       " 'ள': 436,\n",
       " 'ன': 437,\n",
       " 'ற': 438,\n",
       " '🔔': 439,\n",
       " '𝗔': 440,\n",
       " '𝘆': 441,\n",
       " '𝗱': 442,\n",
       " '🤖': 443,\n",
       " '𝗰': 444,\n",
       " 'आ': 445,\n",
       " 'è': 446,\n",
       " '𝗦': 447,\n",
       " '😒': 448,\n",
       " '🕯': 449,\n",
       " '🎶': 450,\n",
       " '🐶': 451,\n",
       " '🌷': 452,\n",
       " '🌏': 453,\n",
       " 'า': 454,\n",
       " 'ก': 455,\n",
       " 'ā': 456,\n",
       " 'ک': 457,\n",
       " '》': 458,\n",
       " '®': 459,\n",
       " '✖': 460,\n",
       " '🐴': 461,\n",
       " '📚': 462,\n",
       " '🌻': 463,\n",
       " 'ج': 464,\n",
       " '🌊': 465,\n",
       " '🇽': 466,\n",
       " '∙': 467,\n",
       " '🍿': 468,\n",
       " '✍': 469,\n",
       " '🐒': 470,\n",
       " '갓': 471,\n",
       " '븐': 472,\n",
       " '👅': 473,\n",
       " 'ु': 474,\n",
       " '💁': 475,\n",
       " '📞': 476,\n",
       " '👶': 477,\n",
       " '💃': 478,\n",
       " '।': 479,\n",
       " '🕺': 480,\n",
       " 'コ': 481,\n",
       " 'ナ': 482,\n",
       " 'ル': 483,\n",
       " '🙋': 484,\n",
       " '🌈': 485,\n",
       " 'ட': 486,\n",
       " 'த': 487,\n",
       " '𝗯': 488,\n",
       " '𝗽': 489,\n",
       " '😌': 490,\n",
       " '𝗹': 491,\n",
       " '🤞': 492,\n",
       " '👮': 493,\n",
       " '🏫': 494,\n",
       " '👸': 495,\n",
       " '🏆': 496,\n",
       " '☀': 497,\n",
       " '⏬': 498,\n",
       " '💗': 499,\n",
       " 'ã': 500,\n",
       " 'ة': 501,\n",
       " '🤧': 502,\n",
       " '🐸': 503,\n",
       " '☣': 504,\n",
       " '📧': 505,\n",
       " 'เ': 506,\n",
       " 'ต': 507,\n",
       " '้': 508,\n",
       " '🌲': 509,\n",
       " '✋': 510,\n",
       " '😇': 511,\n",
       " '🌞': 512,\n",
       " '▸': 513,\n",
       " 'ร': 514,\n",
       " 'ี': 515,\n",
       " 'я': 516,\n",
       " '📲': 517,\n",
       " '⏳': 518,\n",
       " '🗞': 519,\n",
       " '📷': 520,\n",
       " '🎯': 521,\n",
       " '🌕': 522,\n",
       " '›': 523,\n",
       " '🎭': 524,\n",
       " '📁': 525,\n",
       " '🤯': 526,\n",
       " '\\U0001f7e5': 527,\n",
       " '👹': 528,\n",
       " '🌸': 529,\n",
       " '🍺': 530,\n",
       " 'ö': 531,\n",
       " '𝗧': 532,\n",
       " 'ව': 533,\n",
       " '𝗕': 534,\n",
       " 'ᶜ': 535,\n",
       " 'ᵗ': 536,\n",
       " '🚦': 537,\n",
       " '🏈': 538,\n",
       " '📱': 539,\n",
       " '🎈': 540,\n",
       " '🦱': 541,\n",
       " '⛔': 542,\n",
       " '🍁': 543,\n",
       " '―': 544,\n",
       " '💧': 545,\n",
       " '🎥': 546,\n",
       " '기': 547,\n",
       " '사': 548,\n",
       " '\\U0001f7e1': 549,\n",
       " 'ई': 550,\n",
       " 'à': 551,\n",
       " 'ウ': 552,\n",
       " '½': 553,\n",
       " 'ા': 554,\n",
       " 'ી': 555,\n",
       " 'ે': 556,\n",
       " '🗽': 557,\n",
       " '🎵': 558,\n",
       " '↘': 559,\n",
       " 'ய': 560,\n",
       " 'ோ': 561,\n",
       " '📹': 562,\n",
       " '🥊': 563,\n",
       " '𝗜': 564,\n",
       " '𝗟': 565,\n",
       " '𝗺': 566,\n",
       " '𝐢': 567,\n",
       " '𝐧': 568,\n",
       " '𝐬': 569,\n",
       " '🧑': 570,\n",
       " '😓': 571,\n",
       " '𝟵': 572,\n",
       " '𝗠': 573,\n",
       " '😃': 574,\n",
       " '„': 575,\n",
       " '🔵': 576,\n",
       " '￼': 577,\n",
       " '❣': 578,\n",
       " 'İ': 579,\n",
       " '☎': 580,\n",
       " '😲': 581,\n",
       " '🐻': 582,\n",
       " 'É': 583,\n",
       " 'ड': 584,\n",
       " '🛫': 585,\n",
       " '👆': 586,\n",
       " 'ว': 587,\n",
       " 'ั': 588,\n",
       " 'ล': 589,\n",
       " '🚭': 590,\n",
       " '🧡': 591,\n",
       " '🚶': 592,\n",
       " '🆘': 593,\n",
       " '🤓': 594,\n",
       " 'ै': 595,\n",
       " '⚰': 596,\n",
       " '🐮': 597,\n",
       " '🧬': 598,\n",
       " '🔬': 599,\n",
       " '😣': 600,\n",
       " '🔽': 601,\n",
       " '🚀': 602,\n",
       " 'ğ': 603,\n",
       " '🍬': 604,\n",
       " 'บ': 605,\n",
       " 'ส': 606,\n",
       " '😺': 607,\n",
       " 'ध': 608,\n",
       " 'ख': 609,\n",
       " '🐉': 610,\n",
       " '↑': 611,\n",
       " 'ّ': 612,\n",
       " '🗓': 613,\n",
       " '🖥': 614,\n",
       " '🆕': 615,\n",
       " '🔎': 616,\n",
       " '📻': 617,\n",
       " '🤱': 618,\n",
       " '🌔': 619,\n",
       " '🌙': 620,\n",
       " 'घ': 621,\n",
       " 'ण': 622,\n",
       " 'ز': 623,\n",
       " 'ف': 624,\n",
       " 'ழ': 625,\n",
       " 'ங': 626,\n",
       " '\\U000e0077': 627,\n",
       " '\\U000e006c': 628,\n",
       " '🏇': 629,\n",
       " 'а': 630,\n",
       " '한': 631,\n",
       " '🍄': 632,\n",
       " '🍽': 633,\n",
       " '\\u3000': 634,\n",
       " '\\U0001f90d': 635,\n",
       " '්': 636,\n",
       " 'ම': 637,\n",
       " 'ා': 638,\n",
       " 'න': 639,\n",
       " '𝗸': 640,\n",
       " '\\u2060': 641,\n",
       " '\\U0001fa7a': 642,\n",
       " '🐀': 643,\n",
       " '¿': 644,\n",
       " '🐧': 645,\n",
       " '✂': 646,\n",
       " '≥': 647,\n",
       " '🧱': 648,\n",
       " 'ᵘ': 649,\n",
       " '🎮': 650,\n",
       " 'č': 651,\n",
       " '💨': 652,\n",
       " '👺': 653,\n",
       " '👣': 654,\n",
       " '★': 655,\n",
       " '🥤': 656,\n",
       " '「': 657,\n",
       " '💭': 658,\n",
       " '🙅': 659,\n",
       " '❎': 660,\n",
       " '🛡': 661,\n",
       " '🔲': 662,\n",
       " '🥂': 663,\n",
       " '🛌': 664,\n",
       " '😗': 665,\n",
       " '新': 666,\n",
       " '型': 667,\n",
       " 'イ': 668,\n",
       " '💛': 669,\n",
       " '😸': 670,\n",
       " 'ન': 671,\n",
       " 'થ': 672,\n",
       " 'ક': 673,\n",
       " 'ä': 674,\n",
       " '🤫': 675,\n",
       " 'ॐ': 676,\n",
       " '👗': 677,\n",
       " 'ʻ': 678,\n",
       " '🤐': 679,\n",
       " '𝗪': 680,\n",
       " '𝘃': 681,\n",
       " '𝗣': 682,\n",
       " '̇': 683,\n",
       " '𝐨': 684,\n",
       " '🚒': 685,\n",
       " '𝟱': 686,\n",
       " '肺': 687,\n",
       " '炎': 688,\n",
       " '🙉': 689,\n",
       " '🙊': 690,\n",
       " '🐅': 691,\n",
       " '🎹': 692,\n",
       " '【': 693,\n",
       " '】': 694,\n",
       " '💵': 695,\n",
       " '📶': 696,\n",
       " '🎬': 697,\n",
       " '🎁': 698,\n",
       " '🍃': 699,\n",
       " '🦉': 700,\n",
       " 'ॉ': 701,\n",
       " '🚩': 702,\n",
       " '🐾': 703,\n",
       " '↓': 704,\n",
       " '🕊': 705,\n",
       " '🌱': 706,\n",
       " 'ค': 707,\n",
       " 'ม': 708,\n",
       " '็': 709,\n",
       " '่': 710,\n",
       " 'ช': 711,\n",
       " 'ہ': 712,\n",
       " 'گ': 713,\n",
       " 'ھ': 714,\n",
       " 'ے': 715,\n",
       " '🏔': 716,\n",
       " '👥': 717,\n",
       " '🏛': 718,\n",
       " '🏩': 719,\n",
       " '🚬': 720,\n",
       " 'ू': 721,\n",
       " '🤚': 722,\n",
       " '💬': 723,\n",
       " '💸': 724,\n",
       " '🥇': 725,\n",
       " '😵': 726,\n",
       " '🔻': 727,\n",
       " '🌴': 728,\n",
       " 'ç': 729,\n",
       " 'ş': 730,\n",
       " '🔁': 731,\n",
       " '🛒': 732,\n",
       " '○': 733,\n",
       " '💝': 734,\n",
       " '🕵': 735,\n",
       " 'พ': 736,\n",
       " 'ฉ': 737,\n",
       " 'ุ': 738,\n",
       " 'ิ': 739,\n",
       " 'ฐ': 740,\n",
       " 'ย': 741,\n",
       " '์': 742,\n",
       " '🔃': 743,\n",
       " 'š': 744,\n",
       " '⚖': 745,\n",
       " '🦸': 746,\n",
       " '🍕': 747,\n",
       " '🌼': 748,\n",
       " '𝟳': 749,\n",
       " '𝟴': 750,\n",
       " '\\uf465': 751,\n",
       " 'ท': 752,\n",
       " '🐑': 753,\n",
       " '♦': 754,\n",
       " '編': 755,\n",
       " '報': 756,\n",
       " '💟': 757,\n",
       " '♫': 758,\n",
       " '🌖': 759,\n",
       " '🌓': 760,\n",
       " '𖤐': 761,\n",
       " '✽': 762,\n",
       " 'ی': 763,\n",
       " '🤕': 764,\n",
       " 'ஜ': 765,\n",
       " 'ć': 766,\n",
       " '👂': 767,\n",
       " '↔': 768,\n",
       " '😿': 769,\n",
       " '🐱': 770,\n",
       " '🕐': 771,\n",
       " '🚴': 772,\n",
       " '😶': 773,\n",
       " '🥘': 774,\n",
       " '🥜': 775,\n",
       " '\\U0001f7e8': 776,\n",
       " '🚗': 777,\n",
       " '🎓': 778,\n",
       " '🔯': 779,\n",
       " '❄': 780,\n",
       " '🇻': 781,\n",
       " 'ℹ': 782,\n",
       " '＠': 783,\n",
       " '🧿': 784,\n",
       " '📡': 785,\n",
       " 'ऐ': 786,\n",
       " '👤': 787,\n",
       " '🗳': 788,\n",
       " '🍒': 789,\n",
       " '윤': 790,\n",
       " '🥃': 791,\n",
       " '🍻': 792,\n",
       " '🍪': 793,\n",
       " '🍔': 794,\n",
       " '🥪': 795,\n",
       " '🍫': 796,\n",
       " '💺': 797,\n",
       " '📅': 798,\n",
       " 'ट': 799,\n",
       " 'ක': 800,\n",
       " 'ො': 801,\n",
       " 'ි': 802,\n",
       " '\\U0001f971': 803,\n",
       " '►': 804,\n",
       " 'फ': 805,\n",
       " 'ث': 806,\n",
       " '당': 807,\n",
       " '연': 808,\n",
       " '것': 809,\n",
       " '들': 810,\n",
       " '🎢': 811,\n",
       " '×': 812,\n",
       " '❇': 813,\n",
       " '🌳': 814,\n",
       " '𝗘': 815,\n",
       " '𝗖': 816,\n",
       " '𝗞': 817,\n",
       " '📆': 818,\n",
       " 'ओ': 819,\n",
       " 'च': 820,\n",
       " '¡': 821,\n",
       " '동': 822,\n",
       " '행': 823,\n",
       " '일': 824,\n",
       " '👦': 825,\n",
       " '🍼': 826,\n",
       " '👄': 827,\n",
       " 'മ': 828,\n",
       " '്': 829,\n",
       " 'ക': 830,\n",
       " 'ഫ': 831,\n",
       " 'ൗ': 832,\n",
       " 'ൾ': 833,\n",
       " '🌌': 834,\n",
       " '💍': 835,\n",
       " 'ᵒ': 836,\n",
       " 'ⁿ': 837,\n",
       " 'ʸ': 838,\n",
       " 'ᵉ': 839,\n",
       " 'ˡ': 840,\n",
       " '◾': 841,\n",
       " '😟': 842,\n",
       " 'о': 843,\n",
       " 'в': 844,\n",
       " 'پ': 845,\n",
       " '🐎': 846,\n",
       " '💣': 847,\n",
       " '🦶': 848,\n",
       " '🌉': 849,\n",
       " '🔛': 850,\n",
       " '🥌': 851,\n",
       " '🔒': 852,\n",
       " '़': 853,\n",
       " '🎏': 854,\n",
       " '🅰': 855,\n",
       " '⚔': 856,\n",
       " '」': 857,\n",
       " 'વ': 858,\n",
       " 'ં': 859,\n",
       " 'ચ': 860,\n",
       " 'ો': 861,\n",
       " 'ડ': 862,\n",
       " 'ટ': 863,\n",
       " 'ઢ': 864,\n",
       " 'ઇ': 865,\n",
       " 'ੴ': 866,\n",
       " '📊': 867,\n",
       " '🗺': 868,\n",
       " '🏳': 869,\n",
       " '🐗': 870,\n",
       " '🚑': 871,\n",
       " 'ொ': 872,\n",
       " 'ஸ': 873,\n",
       " 'ே': 874,\n",
       " '🦷': 875,\n",
       " '\\U0001f9a7': 876,\n",
       " '🛐': 877,\n",
       " '𝗥': 878,\n",
       " '𝗚': 879,\n",
       " '𝘄': 880,\n",
       " '𝗾': 881,\n",
       " '\\x97': 882,\n",
       " '𝐌': 883,\n",
       " '𝐠': 884,\n",
       " '𝐋': 885,\n",
       " '𝐥': 886,\n",
       " '𝐭': 887,\n",
       " '𝐡': 888,\n",
       " '𝐣': 889,\n",
       " '𝐛': 890,\n",
       " '𝐮': 891,\n",
       " '𝐚': 892,\n",
       " '𝐟': 893,\n",
       " '𝐞': 894,\n",
       " '\\U0001fa79': 895,\n",
       " 'Ñ': 896,\n",
       " '𝗗': 897,\n",
       " '🚿': 898,\n",
       " '🌧': 899,\n",
       " '🌂': 900,\n",
       " '☔': 901,\n",
       " '‽': 902,\n",
       " '🐓': 903,\n",
       " '🥣': 904,\n",
       " '🍚': 905,\n",
       " '🥛': 906,\n",
       " '🦆': 907,\n",
       " '｜': 908,\n",
       " '💄': 909,\n",
       " '🤳': 910,\n",
       " 'ž': 911,\n",
       " '＂': 912,\n",
       " '😈': 913,\n",
       " '🐠': 914,\n",
       " '🐕': 915,\n",
       " '＃': 916,\n",
       " '🔫': 917,\n",
       " 'シ': 918,\n",
       " 'ク': 919,\n",
       " 'ト': 920,\n",
       " 'レ': 921,\n",
       " 'カ': 922,\n",
       " 'ノ': 923,\n",
       " '横': 924,\n",
       " '浜': 925,\n",
       " '大': 926,\n",
       " '洋': 927,\n",
       " 'ホ': 928,\n",
       " 'エ': 929,\n",
       " 'ズ': 930,\n",
       " 'プ': 931,\n",
       " '野': 932,\n",
       " '球': 933,\n",
       " '🎤': 934,\n",
       " '🐥': 935,\n",
       " 'அ': 936,\n",
       " 'ெ': 937,\n",
       " 'ச': 938,\n",
       " '🎼': 939,\n",
       " '🎀': 940,\n",
       " '🐝': 941,\n",
       " '🏓': 942,\n",
       " '🐊': 943,\n",
       " '➜': 944,\n",
       " '🐣': 945,\n",
       " '🐰': 946,\n",
       " '♨': 947,\n",
       " '🛩': 948,\n",
       " '🚆': 949,\n",
       " '🛳': 950,\n",
       " '🚢': 951,\n",
       " '🛬': 952,\n",
       " '🚅': 953,\n",
       " '內': 954,\n",
       " '容': 955,\n",
       " 'ห': 956,\n",
       " 'แ': 957,\n",
       " 'ข': 958,\n",
       " 'ื': 959,\n",
       " 'อ': 960,\n",
       " 'ด': 961,\n",
       " '♡': 962,\n",
       " 'ﷺ': 963,\n",
       " '💼': 964,\n",
       " '◽': 965,\n",
       " 'Â': 966,\n",
       " '🍀': 967,\n",
       " 'थ': 968,\n",
       " '≠': 969,\n",
       " '∴': 970,\n",
       " '🖐': 971,\n",
       " '🎾': 972,\n",
       " '🎂': 973,\n",
       " 'ィ': 974,\n",
       " 'に': 975,\n",
       " '負': 976,\n",
       " 'け': 977,\n",
       " 'る': 978,\n",
       " 'な': 979,\n",
       " '💅': 980,\n",
       " '🚮': 981,\n",
       " 'Τ': 982,\n",
       " '😧': 983,\n",
       " '🥥': 984,\n",
       " '😖': 985,\n",
       " 'ஒ': 986,\n",
       " '🍷': 987,\n",
       " '𝙣': 988,\n",
       " '𝙤': 989,\n",
       " '𝙩': 990,\n",
       " '🔈': 991,\n",
       " '⛳': 992,\n",
       " '⅓': 993,\n",
       " '⛑': 994,\n",
       " '☮': 995,\n",
       " '🌅': 996,\n",
       " '🕉': 997,\n",
       " '👳': 998,\n",
       " '🌠': 999,\n",
       " ...}"
      ]
     },
     "execution_count": 142,
     "metadata": {},
     "output_type": "execute_result"
    }
   ],
   "source": [
    "vocab"
   ]
  },
  {
   "cell_type": "markdown",
   "metadata": {},
   "source": [
    "Compared to others"
   ]
  },
  {
   "cell_type": "code",
   "execution_count": 144,
   "metadata": {},
   "outputs": [
    {
     "data": {
      "text/plain": [
       "97"
      ]
     },
     "execution_count": 144,
     "metadata": {},
     "output_type": "execute_result"
    }
   ],
   "source": [
    "with open('models/holmes/chars_vocab.pkl', 'rb') as f:\n",
    "    chars2, vocab2 = cPickle.load(f)\n",
    "len(chars2)"
   ]
  },
  {
   "cell_type": "code",
   "execution_count": 145,
   "metadata": {},
   "outputs": [
    {
     "data": {
      "text/plain": [
       "65"
      ]
     },
     "execution_count": 145,
     "metadata": {},
     "output_type": "execute_result"
    }
   ],
   "source": [
    "with open('models/speare/chars_vocab.pkl', 'rb') as f:\n",
    "    chars2, vocab2 = cPickle.load(f)\n",
    "len(chars2)"
   ]
  },
  {
   "cell_type": "markdown",
   "metadata": {},
   "source": [
    "### Creating subset of Twitter data"
   ]
  },
  {
   "cell_type": "code",
   "execution_count": 21,
   "metadata": {},
   "outputs": [],
   "source": [
    "def tweets():\n",
    "    with open('../2020-03-22_2020-08-01_ids.jsonl') as f:\n",
    "        for line in f:\n",
    "            t = json.loads(line)\n",
    "            yield t"
   ]
  },
  {
   "cell_type": "code",
   "execution_count": 52,
   "metadata": {},
   "outputs": [],
   "source": [
    "x = [t['full_text'] for t in tweets() if t['lang']=='en']"
   ]
  },
  {
   "cell_type": "code",
   "execution_count": 60,
   "metadata": {},
   "outputs": [],
   "source": [
    "y = x[::10]"
   ]
  },
  {
   "cell_type": "code",
   "execution_count": 61,
   "metadata": {},
   "outputs": [],
   "source": [
    "with open('data/twitter/input.txt', 'w') as f:\n",
    "    for item in y:\n",
    "        f.write(\"%s\\n\" % item)"
   ]
  },
  {
   "cell_type": "code",
   "execution_count": 62,
   "metadata": {},
   "outputs": [
    {
     "data": {
      "text/plain": [
       "55697"
      ]
     },
     "execution_count": 62,
     "metadata": {},
     "output_type": "execute_result"
    }
   ],
   "source": [
    "len(y)"
   ]
  },
  {
   "cell_type": "code",
   "execution_count": 135,
   "metadata": {},
   "outputs": [
    {
     "data": {
      "text/plain": [
       "556967"
      ]
     },
     "execution_count": 135,
     "metadata": {},
     "output_type": "execute_result"
    }
   ],
   "source": [
    "len(x)"
   ]
  },
  {
   "cell_type": "code",
   "execution_count": 148,
   "metadata": {},
   "outputs": [
    {
     "data": {
      "text/plain": [
       "['RT @SenMikeLee: OVER MY DEAD BODY https://t.co/B8BRbvRDDa',\n",
       " 'RT @halaljew: Gaza has been under siege by Israel for 13 years. Gaza already doesn’t have enough food, medicine, or even electricity. It’s…',\n",
       " \"RT @Jan_Ransom: The situation on #Rikers has worsened. According to information from city's Board of Correction, 21 inmates, 12 jail employ…\",\n",
       " \"#plotwist the #coronavirus #COVIDー19 #wuhan400 doesn't exists, its just the earth trolling us to stop leeching off of it.\",\n",
       " 'RT @hrmoroz: For the average American the best way to tell if you have covid-19 is to cough in a rich person’s face and wait for their test…',\n",
       " 'RT @gelles: The World Health Organization warns young people: “You are not invincible.”\\n \\nCOVID-19 could \"put you in hospital for weeks, or…',\n",
       " 'RT @jegobayani: 307 confirmed cases, 13 recoveries, 19 deaths. MASS TESTING NOW!!!!!!',\n",
       " \"Please Cooperate.  Don't hide travel history It’s for your own safety, the safety of your loved ones. Stay home. Stay safe.  Don't depend on others for your safety---help yourself.\\nhelp @srinagaradmin\\n\\n#Covid19 https://t.co/SUWtlsCdVi\",\n",
       " 'RT @hrmoroz: For the average American the best way to tell if you have covid-19 is to cough in a rich person’s face and wait for their test…',\n",
       " \"RT @Advaidism: In the last 48 hours, Kerala police has filed case against\\n\\n2 Church committees'\\n5 Temple committees'\\n5 Mosque committees'…\",\n",
       " 'RT @RailMinIndia: Railways has found some cases of Coronavirus infected passengers in trains which makes train travel risky. \\n\\nAvoid train…',\n",
       " 'RT @TCChoco: Me and my best friend reuniting once coronavirus has disappeared',\n",
       " \"RT @JAYSEE423: NO MURDOCH traitor journos' should be treated...they have been pushing lies, denial and misinformation for months...delibera…\",\n",
       " 'RT @AdiBacelar: After this is all over, please remember in future job interviews to ask them what their company did to protect their employ…',\n",
       " 'RT @Defeat_Trump2: History will never forgive Trump for this reckless, heartless, mindless act. And neither should we. #OustTrumpThenImpris…',\n",
       " 'Australian PM Morrison announces $38 bln, second stimulus measures to combat the coronavirus impact: Read more on https://t.co/d6RE6jAyW8 https://t.co/n4LsPbdU0y',\n",
       " 'RT @SpeakerPelosi: Everyone, young and old, needs to act now to slow the spread of COVID-19.  The best thing Americans can to do fight coro…',\n",
       " 'RT @KojoTrip: Everything has been crazy lately with the outbreak of Covid-19 and all. I had some random thoughts and thought I’d just lay i…',\n",
       " 'RT @no_silenced: It would be sweet if Durham and Barr started indicting people right now\\n\\nLet’s switch the Narrative Mr President and watch…',\n",
       " 'Albury Wodonga Health has announced a NSW person has tested positive to coronavirus after having returned from overseas. The person is in self isolation and not attended Albury or Wodonga hospitals. #COVID19Aus']"
      ]
     },
     "execution_count": 148,
     "metadata": {},
     "output_type": "execute_result"
    }
   ],
   "source": [
    "y[:20]"
   ]
  },
  {
   "cell_type": "markdown",
   "metadata": {},
   "source": [
    "### Below are the commands I used to train the models. I ran them in the terminal"
   ]
  },
  {
   "cell_type": "markdown",
   "metadata": {},
   "source": [
    "'python train.py --data_dir=./data/speare/ --save_dir=models/speare'\n",
    "\n",
    "'python train.py --data_dir=./data/speare/ --save_dir=models/speare_tweak --num_layers=3 --seq_length=64 --batch_size=100 --num_epochs=100'\n",
    "\n",
    "\n",
    "'python train.py --data_dir=./data/holmes/ --save_dir=models/holmes'\n",
    "\n",
    "'python train.py --data_dir=./data/holmes/ --save_dir=models/holmes_tweak --num_layers=3 --seq_length=64 --batch_size=100 --num_epochs=100'\n",
    "\n",
    "\n",
    "'python train.py --data_dir=./data/twitter/ --save_dir=models/twitter' 16hr training\n",
    "\n",
    "'python train.py --data_dir=./data/twitter/ --save_dir=models/twitter_tweak --num_layers=3 --seq_length=64 --batch_size=500 --num_epochs=100 --output_keep_prob 0.8' 10hr training\n",
    "\n",
    "'python train.py --data_dir=./data/twitter/ --save_dir=models/twitter_tweaked --num_layers=3 --seq_length=56 --batch_size=500 --num_epochs=100' 11hr training\n",
    "\n",
    "'python train.py --data_dir=./data/twitter/ --save_dir=models/twitter_relu --batch_size=500' 5hr training\n",
    "\n",
    "'python train.py --data_dir=./data/twitter/ --save_dir=models/twitter_relu_tweak --num_layers=3 --seq_length=56 --batch_size=500 --num_epochs=100' 11 hr training\n",
    "\n",
    "'python train.py --data_dir=./data/twitter/ --save_dir=models/twitter_relu_tweaked --num_layers=3 --seq_length=56 --batch_size=500 --num_epochs=100 --output_keep_prob 0.8' 11 hr training"
   ]
  },
  {
   "cell_type": "code",
   "execution_count": 9,
   "metadata": {},
   "outputs": [
    {
     "data": {
      "text/plain": [
       "CompletedProcess(args='python sample.py --save_dir=holmes > holmes/output.txt', returncode=0)"
      ]
     },
     "execution_count": 9,
     "metadata": {},
     "output_type": "execute_result"
    }
   ],
   "source": [
    "cmd = 'python sample.py --save_dir=models/holmes > models/holmes/output.txt'\n",
    "subprocess.run(cmd, shell=True)"
   ]
  },
  {
   "cell_type": "code",
   "execution_count": 6,
   "metadata": {},
   "outputs": [
    {
     "data": {
      "text/plain": [
       "CompletedProcess(args='python sample.py --save_dir=holmes_tweak > holmes_tweak/output.txt', returncode=0)"
      ]
     },
     "execution_count": 6,
     "metadata": {},
     "output_type": "execute_result"
    }
   ],
   "source": [
    "cmd = 'python sample.py --save_dir=models/holmes_tweak > models/holmes_tweak/output.txt'\n",
    "subprocess.run(cmd, shell=True)"
   ]
  },
  {
   "cell_type": "code",
   "execution_count": 11,
   "metadata": {},
   "outputs": [
    {
     "data": {
      "text/plain": [
       "CompletedProcess(args='python sample.py --save_dir=speare > speare/output.txt', returncode=0)"
      ]
     },
     "execution_count": 11,
     "metadata": {},
     "output_type": "execute_result"
    }
   ],
   "source": [
    "cmd = 'python sample.py --save_dir=models/speare > models/speare/output.txt'\n",
    "subprocess.run(cmd, shell=True)"
   ]
  },
  {
   "cell_type": "code",
   "execution_count": 13,
   "metadata": {
    "scrolled": true
   },
   "outputs": [
    {
     "data": {
      "text/plain": [
       "CompletedProcess(args='python sample.py --save_dir=speare_tweak > speare_tweak/output.txt', returncode=0)"
      ]
     },
     "execution_count": 13,
     "metadata": {},
     "output_type": "execute_result"
    }
   ],
   "source": [
    "cmd = 'python sample.py --save_dir=models/speare_tweak > models/speare_tweak/output.txt'\n",
    "subprocess.run(cmd, shell=True)"
   ]
  },
  {
   "cell_type": "code",
   "execution_count": 47,
   "metadata": {},
   "outputs": [
    {
     "data": {
      "text/plain": [
       "CompletedProcess(args='python sample.py --save_dir=models/twitter > models/twitter/output.txt', returncode=0)"
      ]
     },
     "execution_count": 47,
     "metadata": {},
     "output_type": "execute_result"
    }
   ],
   "source": [
    "cmd = 'python sample.py --save_dir=models/twitter > models/twitter/output.txt'\n",
    "subprocess.run(cmd, shell=True)"
   ]
  },
  {
   "cell_type": "code",
   "execution_count": 69,
   "metadata": {},
   "outputs": [
    {
     "data": {
      "text/plain": [
       "CompletedProcess(args='python sample.py --save_dir=models/twitter_tweak > models/twitter_tweak/output.txt', returncode=0)"
      ]
     },
     "execution_count": 69,
     "metadata": {},
     "output_type": "execute_result"
    }
   ],
   "source": [
    "cmd = 'python sample.py --save_dir=models/twitter_tweak > models/twitter_tweak/output.txt'\n",
    "subprocess.run(cmd, shell=True)"
   ]
  },
  {
   "cell_type": "code",
   "execution_count": 71,
   "metadata": {},
   "outputs": [
    {
     "data": {
      "text/plain": [
       "CompletedProcess(args='python sample.py --save_dir=models/twitter_tweaked > models/twitter_tweaked/output.txt', returncode=0)"
      ]
     },
     "execution_count": 71,
     "metadata": {},
     "output_type": "execute_result"
    }
   ],
   "source": [
    "cmd = 'python sample.py --save_dir=models/twitter_tweaked > models/twitter_tweaked/output.txt'\n",
    "subprocess.run(cmd, shell=True)"
   ]
  },
  {
   "cell_type": "code",
   "execution_count": 73,
   "metadata": {},
   "outputs": [
    {
     "data": {
      "text/plain": [
       "CompletedProcess(args='python sample.py --save_dir=models/twitter_relu > models/twitter_relu/output.txt', returncode=0)"
      ]
     },
     "execution_count": 73,
     "metadata": {},
     "output_type": "execute_result"
    }
   ],
   "source": [
    "cmd = 'python sample.py --save_dir=models/twitter_relu > models/twitter_relu/output.txt'\n",
    "subprocess.run(cmd, shell=True)"
   ]
  },
  {
   "cell_type": "code",
   "execution_count": 75,
   "metadata": {},
   "outputs": [
    {
     "data": {
      "text/plain": [
       "CompletedProcess(args='python sample.py --save_dir=models/twitter_relu_tweak > models/twitter_relu_tweak/output.txt', returncode=0)"
      ]
     },
     "execution_count": 75,
     "metadata": {},
     "output_type": "execute_result"
    }
   ],
   "source": [
    "cmd = 'python sample.py --save_dir=models/twitter_relu_tweak > models/twitter_relu_tweak/output.txt'\n",
    "subprocess.run(cmd, shell=True)"
   ]
  },
  {
   "cell_type": "code",
   "execution_count": 77,
   "metadata": {},
   "outputs": [
    {
     "data": {
      "text/plain": [
       "CompletedProcess(args='python sample.py --save_dir=models/twitter_relu_tweaked > models/twitter_relu_tweaked/output.txt', returncode=0)"
      ]
     },
     "execution_count": 77,
     "metadata": {},
     "output_type": "execute_result"
    }
   ],
   "source": [
    "cmd = 'python sample.py --save_dir=models/twitter_relu_tweaked > models/twitter_relu_tweaked/output.txt'\n",
    "subprocess.run(cmd, shell=True)"
   ]
  },
  {
   "cell_type": "markdown",
   "metadata": {},
   "source": [
    "## Holmes"
   ]
  },
  {
   "cell_type": "code",
   "execution_count": 10,
   "metadata": {},
   "outputs": [
    {
     "name": "stdout",
     "output_type": "stream",
     "text": [
      " brother may be Franking, and fortunated might have beside.\n",
      "\n",
      "\n",
      "\n",
      "     \"It is quitice Carvinces this and\n",
      "\n",
      "     not much as to the jackets, for an instant you--reservided. On\n",
      "\n",
      "     your shadrow-green House into his empliving light of Mr. Mefals as\n",
      "\n",
      "     he is came instance and took your face. The blay you, there is\n",
      "\n",
      "     that war your lip. I may endeased to me for you, Who heard a soil to his fearing\n",
      "\n",
      "     intenist day as a dooring away the room, I put upon the ban, have made\n",
      "\n",
      "     a trail, it is a supply fr\n",
      "\n"
     ]
    }
   ],
   "source": [
    "with open('models/holmes/output.txt') as f:\n",
    "    for line in f:\n",
    "        print(line)"
   ]
  },
  {
   "cell_type": "code",
   "execution_count": 8,
   "metadata": {},
   "outputs": [
    {
     "name": "stdout",
     "output_type": "stream",
     "text": [
      "   \"PSongtraus, afterward being a railor about to bunting long than impress.\"\n",
      "\n",
      "\n",
      "\n",
      "     \"Very neuntily we addingling early through my companion?\"\n",
      "\n",
      "\n",
      "\n",
      "     \"Primise? Well, what is information and full of the Lestarted it.\n",
      "\n",
      "     Surbed exclamation several study. We intends the man who Colonel\n",
      "\n",
      "     horror mad in his mingham for how you have have given through the doctor\n",
      "\n",
      "     Overtake Aaroe. You several Deria business manner was\n",
      "\n",
      "     mantelp, yourself are nothing man, of some interesting-phite,\n",
      "\n",
      "     and it a\n",
      "\n"
     ]
    }
   ],
   "source": [
    "with open('models/holmes_tweak/output.txt') as f:\n",
    "    for line in f:\n",
    "        print(line)"
   ]
  },
  {
   "cell_type": "markdown",
   "metadata": {},
   "source": [
    "## Shakespeare"
   ]
  },
  {
   "cell_type": "code",
   "execution_count": 12,
   "metadata": {},
   "outputs": [
    {
     "name": "stdout",
     "output_type": "stream",
     "text": [
      " uh zue do;\n",
      "\n",
      "The blot as he was, my brother wholesome wave\n",
      "\n",
      "He will believe them a loss of them where pity;\n",
      "\n",
      "If must choose my slew the Mergrate!\n",
      "\n",
      "\n",
      "\n",
      "VOLUMINABELE:\n",
      "\n",
      "And yet I do bride up is he grace.\n",
      "\n",
      "\n",
      "\n",
      "First Anthie:\n",
      "\n",
      "Pray Question, your mouthfully, whilshing\n",
      "\n",
      "What they hadst he will, I thank them there,\n",
      "\n",
      "You, who well my vicay of young, that maintain.\n",
      "\n",
      "My, I'll not lies him alack off I coning\n",
      "\n",
      "Of their trust to thy earth, he greet too, and stop\n",
      "\n",
      "Hath ealls from them delicht your father's ruin!\n",
      "\n",
      "I amged upon you\n",
      "\n"
     ]
    }
   ],
   "source": [
    "with open('models/speare/output.txt') as f:\n",
    "    for line in f:\n",
    "        print(line)"
   ]
  },
  {
   "cell_type": "code",
   "execution_count": 14,
   "metadata": {},
   "outputs": [
    {
     "name": "stdout",
     "output_type": "stream",
     "text": [
      " at move,\n",
      "\n",
      "Richard, nor harmfully in known wars:\n",
      "\n",
      "We'll begransed thy other place how you with\n",
      "\n",
      "Or on blest of this chief and too holy escame.\n",
      "\n",
      "But have discofters every help me, I say; I am how\n",
      "\n",
      "Beseech his paty that masters\n",
      "\n",
      "Of thy tere beholdest fear of late with as being merry\n",
      "\n",
      "Tell me consider demes noth'd marks. Beseem,\n",
      "\n",
      "As your death, and selves' urge prochanking way\n",
      "\n",
      "Vail'd virtue in, so will coloump'd\n",
      "\n",
      "No noble other seem thee?\n",
      "\n",
      "Where is no more on, seeing me turn when you'll to anger them\n",
      "\n",
      "Death he\n",
      "\n"
     ]
    }
   ],
   "source": [
    "with open('models/speare_tweak/output.txt') as f:\n",
    "    for line in f:\n",
    "        print(line)"
   ]
  },
  {
   "cell_type": "markdown",
   "metadata": {},
   "source": [
    "## Twitter standard"
   ]
  },
  {
   "cell_type": "code",
   "execution_count": 48,
   "metadata": {},
   "outputs": [
    {
     "name": "stdout",
     "output_type": "stream",
     "text": [
      " on bueman pen tasavili eini...leg…\n",
      "\n",
      "RT @KefteBRige: Blecheback ketwing update in the Canada is done again political Coronavirus bill antrained for the already individe on their. #World400ImportsRaithebo: https://t.co/ojeOVJs54H\n",
      "\n",
      "RT @Mistor #Bebar #Pulth #URGual #Akenana #TinasWales \n",
      "\n",
      "#annemiadorizoni #Lol #humangn  #coronavirus\n",
      "\n",
      "RT @BesstinThei: NEW: Democrats in the “outrage the investical day the…\n",
      "\n",
      "RT @Rahlalchis: My success people see it infectious allens to surge the COVID-19 can't 3 months in on\n",
      "\n"
     ]
    }
   ],
   "source": [
    "with open('models/twitter/output.txt') as f:\n",
    "    for line in f:\n",
    "        print(line)"
   ]
  },
  {
   "cell_type": "code",
   "execution_count": 70,
   "metadata": {},
   "outputs": [
    {
     "name": "stdout",
     "output_type": "stream",
     "text": [
      " thank theled of Revieving people https://t.co/3n9za5qD3x\n",
      "\n",
      "RT @Yout12107350: Medical help what sads has probressing with the COVID-19 positive coronavirus antories lessed USP for the COVID-19 and Nin-Sladyu https://t.co/qVHtWRqGit\n",
      "\n",
      "RT @KerdHOBO_PUH: And some with Covid19 just Diolity is foren nearly tested to parts to bluinulle hyvergellda 460,000 testing a consider of Kackest A…\n",
      "\n",
      "RT @kircubed: 🚨Mintancing Covid-19 an of astelm in the 23, to good any equemacrews to as virus abut to Bwing Back Peep. \n",
      "\n"
     ]
    }
   ],
   "source": [
    "with open('models/twitter_tweak/output.txt') as f:\n",
    "    for line in f:\n",
    "        print(line)"
   ]
  },
  {
   "cell_type": "code",
   "execution_count": 72,
   "metadata": {},
   "outputs": [
    {
     "name": "stdout",
     "output_type": "stream",
     "text": [
      " YOVE RULLA – AND with Coronavirus cases of coronavirus cases. We need for your patients—bath orders to nerly have mom blawards 🤷‍4x in a violent rovap frontled these exposed to allighters if you just covid-19 test an …\n",
      "\n",
      "RT @stage_4hrite: Woke. Telling Sorry 🙏 74/36 Social distare &amp; praud\n",
      "\n",
      ".\n",
      "\n",
      "\n",
      "\n",
      "But go,miked the light on coronavirus two grapitals forwtries, the reals alroather than arrested, a growing people raised the Inordical Hiscussing President did is but carefully threat globe!\n",
      "\n",
      "RT @Balewalco\n",
      "\n"
     ]
    }
   ],
   "source": [
    "with open('models/twitter_tweaked/output.txt') as f:\n",
    "    for line in f:\n",
    "        print(line)"
   ]
  },
  {
   "cell_type": "code",
   "execution_count": 74,
   "metadata": {},
   "outputs": [
    {
     "name": "stdout",
     "output_type": "stream",
     "text": [
      " help custorned on Gr…\n",
      "\n",
      "RT @cathyxis1: As the turning those global to #COVID19 \"longer fou…\n",
      "\n",
      "RT @ascas: India to more not Norborday. People’s does not *What I was abunders, he are staff COVID19 patients has the care these personal of Prison are diging, in a requined or ramparect.\n",
      "\n",
      "Such is in Flu. it’s benn the lacts until the @itsRangOn Most with @yeavarc20587 becaused- on Chen boutbreak \"bences a devall.\n",
      "\n",
      "RT @MominFCron: LAKE O createn…\n",
      "\n",
      "RT @AlamaJjAnge: Thines are say Slory, HAME Disit the country s\n",
      "\n"
     ]
    }
   ],
   "source": [
    "with open('models/twitter_relu/output.txt') as f:\n",
    "    for line in f:\n",
    "        print(line)"
   ]
  },
  {
   "cell_type": "code",
   "execution_count": 76,
   "metadata": {},
   "outputs": [
    {
     "name": "stdout",
     "output_type": "stream",
     "text": [
      " response “threfeetles! \n",
      "\n",
      "\n",
      "\n",
      "Nearly China - How have most faciuly people imm…\n",
      "\n",
      "RT @SenHaltsVey: What come a hope by Dr. Girg\" today for that can talk in a disga” is find rogethy\n",
      "\n",
      "RT @jamesteenpolynUS: Coronavirus: Like phase prefurc-…\n",
      "\n",
      "RT @TomMikMarch: Profity Hill Innonart Pravida Germany, who she-global Coronavirus relief within. Stone reveally risease in the worldwide where #COVID19 cassess private and getter in dish into COVID-19 AANIDEE: #coronavirus out @realDonaldTrump mising - things Navi…\n",
      "\n",
      "Oper\n",
      "\n"
     ]
    }
   ],
   "source": [
    "with open('models/twitter_relu_tweak/output.txt') as f:\n",
    "    for line in f:\n",
    "        print(line)"
   ]
  },
  {
   "cell_type": "code",
   "execution_count": 78,
   "metadata": {},
   "outputs": [
    {
     "name": "stdout",
     "output_type": "stream",
     "text": [
      " being WHO is imerace, coronavirus patients” ..\n",
      "\n",
      "\n",
      "\n",
      "Nuce? \n",
      "\n",
      "\n",
      "\n",
      "Rause cubles and times notion-de…\n",
      "\n",
      "RT @DasadanaNews: Shitform economic fighting the cane essition, frontline rights president compliior task reopened under quaranty in Pastor-#Predation transments while a Yria. Th…\n",
      "\n",
      "RT @ResBustWasa: Should for what clean it: Buudsties Pandemic. World's on ireans and I. No great point https://t.co/dvtUVlDR2b\n",
      "\n",
      "@dogialunsov Cushert My Chcontance tests and coverabily subshoum\" for at any public #COVID19 enviniwal \n",
      "\n"
     ]
    }
   ],
   "source": [
    "with open('models/twitter_relu_tweaked/output.txt') as f:\n",
    "    for line in f:\n",
    "        print(line)"
   ]
  },
  {
   "cell_type": "markdown",
   "metadata": {},
   "source": [
    "## Twitter single tweet"
   ]
  },
  {
   "cell_type": "code",
   "execution_count": 88,
   "metadata": {},
   "outputs": [
    {
     "data": {
      "text/plain": [
       "CompletedProcess(args='python sample.py --save_dir=models/twitter -n=140 > models/twitter/single_output.txt', returncode=0)"
      ]
     },
     "execution_count": 88,
     "metadata": {},
     "output_type": "execute_result"
    }
   ],
   "source": [
    "cmd = 'python sample.py --save_dir=models/twitter -n=140 > models/twitter/single_output.txt'\n",
    "subprocess.run(cmd, shell=True)"
   ]
  },
  {
   "cell_type": "code",
   "execution_count": 90,
   "metadata": {},
   "outputs": [
    {
     "data": {
      "text/plain": [
       "CompletedProcess(args='python sample.py --save_dir=models/twitter_tweak -n=140 > models/twitter_tweak/single_output.txt', returncode=0)"
      ]
     },
     "execution_count": 90,
     "metadata": {},
     "output_type": "execute_result"
    }
   ],
   "source": [
    "cmd = 'python sample.py --save_dir=models/twitter_tweak -n=140 > models/twitter_tweak/single_output.txt'\n",
    "subprocess.run(cmd, shell=True)"
   ]
  },
  {
   "cell_type": "code",
   "execution_count": 106,
   "metadata": {},
   "outputs": [
    {
     "data": {
      "text/plain": [
       "CompletedProcess(args='python sample.py --save_dir=models/twitter_tweaked -n=140 > models/twitter_tweaked/single_output.txt', returncode=0)"
      ]
     },
     "execution_count": 106,
     "metadata": {},
     "output_type": "execute_result"
    }
   ],
   "source": [
    "cmd = 'python sample.py --save_dir=models/twitter_tweaked -n=140 > models/twitter_tweaked/single_output.txt'\n",
    "subprocess.run(cmd, shell=True)"
   ]
  },
  {
   "cell_type": "code",
   "execution_count": 95,
   "metadata": {
    "scrolled": true
   },
   "outputs": [
    {
     "data": {
      "text/plain": [
       "CompletedProcess(args='python sample.py --save_dir=models/twitter_relu -n=140 > models/twitter_relu/single_output.txt', returncode=0)"
      ]
     },
     "execution_count": 95,
     "metadata": {},
     "output_type": "execute_result"
    }
   ],
   "source": [
    "cmd = 'python sample.py --save_dir=models/twitter_relu -n=140 > models/twitter_relu/single_output.txt'\n",
    "subprocess.run(cmd, shell=True)"
   ]
  },
  {
   "cell_type": "code",
   "execution_count": 96,
   "metadata": {},
   "outputs": [
    {
     "data": {
      "text/plain": [
       "CompletedProcess(args='python sample.py --save_dir=models/twitter_relu_tweak -n=140 > models/twitter_relu_tweak/single_output.txt', returncode=0)"
      ]
     },
     "execution_count": 96,
     "metadata": {},
     "output_type": "execute_result"
    }
   ],
   "source": [
    "cmd = 'python sample.py --save_dir=models/twitter_relu_tweak -n=140 > models/twitter_relu_tweak/single_output.txt'\n",
    "subprocess.run(cmd, shell=True)"
   ]
  },
  {
   "cell_type": "code",
   "execution_count": 97,
   "metadata": {},
   "outputs": [
    {
     "data": {
      "text/plain": [
       "CompletedProcess(args='python sample.py --save_dir=models/twitter_relu_tweaked -n=140 > models/twitter_relu_tweaked/single_output.txt', returncode=0)"
      ]
     },
     "execution_count": 97,
     "metadata": {},
     "output_type": "execute_result"
    }
   ],
   "source": [
    "cmd = 'python sample.py --save_dir=models/twitter_relu_tweaked -n=140 > models/twitter_relu_tweaked/single_output.txt'\n",
    "subprocess.run(cmd, shell=True)"
   ]
  },
  {
   "cell_type": "code",
   "execution_count": 98,
   "metadata": {
    "scrolled": true
   },
   "outputs": [
    {
     "name": "stdout",
     "output_type": "stream",
     "text": [
      " 🙂🇪\n",
      "\n",
      "#COVIVUUK #COVID19 #EuropeanCale https://t.co/AL9dyZ69ng\n",
      "\n",
      "RT @citkr_dermanic: Why’s *more thans of workers in our kicle to Russia - \n",
      "\n",
      "@Seta\n",
      "\n"
     ]
    }
   ],
   "source": [
    "with open('models/twitter/single_output.txt') as f:\n",
    "    for line in f:\n",
    "        print(line)"
   ]
  },
  {
   "cell_type": "code",
   "execution_count": 99,
   "metadata": {},
   "outputs": [
    {
     "name": "stdout",
     "output_type": "stream",
     "text": [
      " visulation, I’ve safetion of the make carries.\n",
      "\n",
      "\n",
      "\n",
      "When have in Datcens’ Decamar” administom' of An on News\n",
      "\n",
      "\n",
      "\n",
      "I with 1nt about desporting $0 53,\n",
      "\n"
     ]
    }
   ],
   "source": [
    "with open('models/twitter_tweak/single_output.txt') as f:\n",
    "    for line in f:\n",
    "        print(line)"
   ]
  },
  {
   "cell_type": "code",
   "execution_count": 107,
   "metadata": {},
   "outputs": [
    {
     "name": "stdout",
     "output_type": "stream",
     "text": [
      " the rise of #Isalowing #giedia, committed my stop stately because it is aspects on while COVID-19 https://t.co/b77VJUHTRa\n",
      "\n",
      "RT @MorganFinderss\n",
      "\n"
     ]
    }
   ],
   "source": [
    "with open('models/twitter_tweaked/single_output.txt') as f:\n",
    "    for line in f:\n",
    "        print(line)"
   ]
  },
  {
   "cell_type": "code",
   "execution_count": 101,
   "metadata": {},
   "outputs": [
    {
     "name": "stdout",
     "output_type": "stream",
     "text": [
      " begchol distancin discability\n",
      "\n",
      "\n",
      "\n",
      "https://t.co/5Qbz4jvste\n",
      "\n",
      "RT @ASkill14: .@Grandeline https://t.co/c4s8EC75qQ\n",
      "\n",
      "UH sted | The know Up bill meterag\n",
      "\n"
     ]
    }
   ],
   "source": [
    "with open('models/twitter_relu/single_output.txt') as f:\n",
    "    for line in f:\n",
    "        print(line)"
   ]
  },
  {
   "cell_type": "code",
   "execution_count": 102,
   "metadata": {},
   "outputs": [
    {
     "name": "stdout",
     "output_type": "stream",
     "text": [
      " in parkeverses coronavirus spirity. He'd have administracts and styn intervieite to…\n",
      "\n",
      "Visease Admit…\n",
      "\n",
      "Insidering post Mirjal is in distract th\n",
      "\n"
     ]
    }
   ],
   "source": [
    "with open('models/twitter_relu_tweak/single_output.txt') as f:\n",
    "    for line in f:\n",
    "        print(line)"
   ]
  },
  {
   "cell_type": "code",
   "execution_count": 103,
   "metadata": {},
   "outputs": [
    {
     "name": "stdout",
     "output_type": "stream",
     "text": [
      " Repigner on Compero of for response.  Very Fuw do this ve…\n",
      "\n",
      "RT @riinwashelan: Covid-19 remembers researchers on the lockdown, @SaulyRamPIBKSB\n",
      "\n"
     ]
    }
   ],
   "source": [
    "with open('models/twitter_relu_tweaked/single_output.txt') as f:\n",
    "    for line in f:\n",
    "        print(line)"
   ]
  },
  {
   "cell_type": "markdown",
   "metadata": {},
   "source": [
    "## Twitter single retweet"
   ]
  },
  {
   "cell_type": "code",
   "execution_count": 125,
   "metadata": {
    "scrolled": true
   },
   "outputs": [
    {
     "data": {
      "text/plain": [
       "CompletedProcess(args='python sample.py --save_dir=models/twitter -n=140 --prime=\"RT\" > models/twitter/single_reoutput.txt', returncode=0)"
      ]
     },
     "execution_count": 125,
     "metadata": {},
     "output_type": "execute_result"
    }
   ],
   "source": [
    "cmd = 'python sample.py --save_dir=models/twitter -n=140 --prime=\"RT\" > models/twitter/single_reoutput.txt'\n",
    "subprocess.run(cmd, shell=True)"
   ]
  },
  {
   "cell_type": "code",
   "execution_count": 110,
   "metadata": {},
   "outputs": [
    {
     "data": {
      "text/plain": [
       "CompletedProcess(args='python sample.py --save_dir=models/twitter_tweak -n=140 --prime=\"RT\" > models/twitter_tweak/single_reoutput.txt', returncode=0)"
      ]
     },
     "execution_count": 110,
     "metadata": {},
     "output_type": "execute_result"
    }
   ],
   "source": [
    "cmd = 'python sample.py --save_dir=models/twitter_tweak -n=140 --prime=\"RT\" > models/twitter_tweak/single_reoutput.txt'\n",
    "subprocess.run(cmd, shell=True)"
   ]
  },
  {
   "cell_type": "code",
   "execution_count": 111,
   "metadata": {},
   "outputs": [
    {
     "data": {
      "text/plain": [
       "CompletedProcess(args='python sample.py --save_dir=models/twitter_tweaked -n=140 --prime=\"RT\" > models/twitter_tweaked/single_reoutput.txt', returncode=0)"
      ]
     },
     "execution_count": 111,
     "metadata": {},
     "output_type": "execute_result"
    }
   ],
   "source": [
    "cmd = 'python sample.py --save_dir=models/twitter_tweaked -n=140 --prime=\"RT\" > models/twitter_tweaked/single_reoutput.txt'\n",
    "subprocess.run(cmd, shell=True)"
   ]
  },
  {
   "cell_type": "code",
   "execution_count": 114,
   "metadata": {
    "scrolled": true
   },
   "outputs": [
    {
     "data": {
      "text/plain": [
       "CompletedProcess(args='python sample.py --save_dir=models/twitter_relu -n=140 --prime=\"RT\" > models/twitter_relu/single_reoutput.txt', returncode=0)"
      ]
     },
     "execution_count": 114,
     "metadata": {},
     "output_type": "execute_result"
    }
   ],
   "source": [
    "cmd = 'python sample.py --save_dir=models/twitter_relu -n=140 --prime=\"RT\" > models/twitter_relu/single_reoutput.txt'\n",
    "subprocess.run(cmd, shell=True)"
   ]
  },
  {
   "cell_type": "code",
   "execution_count": 112,
   "metadata": {},
   "outputs": [
    {
     "data": {
      "text/plain": [
       "CompletedProcess(args='python sample.py --save_dir=models/twitter_relu_tweak -n=140 --prime=\"RT\" > models/twitter_relu_tweak/single_reoutput.txt', returncode=0)"
      ]
     },
     "execution_count": 112,
     "metadata": {},
     "output_type": "execute_result"
    }
   ],
   "source": [
    "cmd = 'python sample.py --save_dir=models/twitter_relu_tweak -n=140 --prime=\"RT\" > models/twitter_relu_tweak/single_reoutput.txt'\n",
    "subprocess.run(cmd, shell=True)"
   ]
  },
  {
   "cell_type": "code",
   "execution_count": 113,
   "metadata": {
    "scrolled": true
   },
   "outputs": [
    {
     "data": {
      "text/plain": [
       "CompletedProcess(args='python sample.py --save_dir=models/twitter_relu_tweaked -n=140 --prime=\"RT\" > models/twitter_relu_tweaked/single_reoutput.txt', returncode=0)"
      ]
     },
     "execution_count": 113,
     "metadata": {},
     "output_type": "execute_result"
    }
   ],
   "source": [
    "cmd = 'python sample.py --save_dir=models/twitter_relu_tweaked -n=140 --prime=\"RT\" > models/twitter_relu_tweaked/single_reoutput.txt'\n",
    "subprocess.run(cmd, shell=True)"
   ]
  },
  {
   "cell_type": "code",
   "execution_count": 126,
   "metadata": {
    "scrolled": true
   },
   "outputs": [
    {
     "name": "stdout",
     "output_type": "stream",
     "text": [
      "RT🇻DINGHONIK: Total influerally sites its huge really inlyle to a hand cospating the Americans in comes;\n",
      "\n",
      "Freaking the Medrict Yech, Nigetlial \n",
      "\n"
     ]
    }
   ],
   "source": [
    "with open('models/twitter/single_reoutput.txt') as f:\n",
    "    for line in f:\n",
    "        print(line)"
   ]
  },
  {
   "cell_type": "code",
   "execution_count": 116,
   "metadata": {},
   "outputs": [
    {
     "name": "stdout",
     "output_type": "stream",
     "text": [
      "RT @LUW: Insearing 15 from the poll has testing got), they coronavirus is acciated over ungiy over own lies to his knot…\n",
      "\n",
      "RT @ThshinDo: When al\n",
      "\n"
     ]
    }
   ],
   "source": [
    "with open('models/twitter_tweak/single_reoutput.txt') as f:\n",
    "    for line in f:\n",
    "        print(line)"
   ]
  },
  {
   "cell_type": "code",
   "execution_count": 117,
   "metadata": {},
   "outputs": [
    {
     "name": "stdout",
     "output_type": "stream",
     "text": [
      "RT @nitaticsBrate: And COVID-19 informathe how Trump's Chinese to elector women by nation of #COVID19 suctors for Colleague #DeportsCoronawj+\n",
      "\n",
      "\n",
      "\n"
     ]
    }
   ],
   "source": [
    "with open('models/twitter_tweaked/single_reoutput.txt') as f:\n",
    "    for line in f:\n",
    "        print(line)"
   ]
  },
  {
   "cell_type": "code",
   "execution_count": 118,
   "metadata": {},
   "outputs": [
    {
     "name": "stdout",
     "output_type": "stream",
     "text": [
      "RT @dalenerar: I know Detay toll our mains, has a POTL COVID-19 Question flooden https://t.co/1rbVqFmSbf\n",
      "\n",
      "RT @NHLA: Mastaidar Iz has raigration\n",
      "\n"
     ]
    }
   ],
   "source": [
    "with open('models/twitter_relu/single_reoutput.txt') as f:\n",
    "    for line in f:\n",
    "        print(line)"
   ]
  },
  {
   "cell_type": "code",
   "execution_count": 119,
   "metadata": {},
   "outputs": [
    {
     "name": "stdout",
     "output_type": "stream",
     "text": [
      "RT @Davids8Deral: We hneel over, so warning to the #disclocakes (people. W real we have the hard home, as plan https://t.co/3RJGDKrp2T\n",
      "\n",
      "RT @sbr\n",
      "\n"
     ]
    }
   ],
   "source": [
    "with open('models/twitter_relu_tweak/single_reoutput.txt') as f:\n",
    "    for line in f:\n",
    "        print(line)"
   ]
  },
  {
   "cell_type": "code",
   "execution_count": 120,
   "metadata": {},
   "outputs": [
    {
     "name": "stdout",
     "output_type": "stream",
     "text": [
      "RT @4Gorchs: Delivery going for the Coronavirus health latest -and 62 in the world, that we have just not, deminder https://t.co/61Pjk2mTg3\n",
      "\n",
      "RT\n",
      "\n"
     ]
    }
   ],
   "source": [
    "with open('models/twitter_relu_tweaked/single_reoutput.txt') as f:\n",
    "    for line in f:\n",
    "        print(line)"
   ]
  },
  {
   "cell_type": "markdown",
   "metadata": {},
   "source": [
    "## Twitter long tweets"
   ]
  },
  {
   "cell_type": "code",
   "execution_count": 128,
   "metadata": {},
   "outputs": [
    {
     "data": {
      "text/plain": [
       "CompletedProcess(args='python sample.py --save_dir=models/twitter -n=10000 > models/twitter/long_output.txt', returncode=0)"
      ]
     },
     "execution_count": 128,
     "metadata": {},
     "output_type": "execute_result"
    }
   ],
   "source": [
    "cmd = 'python sample.py --save_dir=models/twitter -n=10000 > models/twitter/long_output.txt'\n",
    "subprocess.run(cmd, shell=True)"
   ]
  },
  {
   "cell_type": "code",
   "execution_count": 129,
   "metadata": {},
   "outputs": [
    {
     "data": {
      "text/plain": [
       "CompletedProcess(args='python sample.py --save_dir=models/twitter_tweak -n=10000 > models/twitter_tweak/long_output.txt', returncode=0)"
      ]
     },
     "execution_count": 129,
     "metadata": {},
     "output_type": "execute_result"
    }
   ],
   "source": [
    "cmd = 'python sample.py --save_dir=models/twitter_tweak -n=10000 > models/twitter_tweak/long_output.txt'\n",
    "subprocess.run(cmd, shell=True)"
   ]
  },
  {
   "cell_type": "code",
   "execution_count": 130,
   "metadata": {},
   "outputs": [
    {
     "data": {
      "text/plain": [
       "CompletedProcess(args='python sample.py --save_dir=models/twitter_tweaked -n=10000 > models/twitter_tweaked/long_output.txt', returncode=0)"
      ]
     },
     "execution_count": 130,
     "metadata": {},
     "output_type": "execute_result"
    }
   ],
   "source": [
    "cmd = 'python sample.py --save_dir=models/twitter_tweaked -n=10000 > models/twitter_tweaked/long_output.txt'\n",
    "subprocess.run(cmd, shell=True)"
   ]
  },
  {
   "cell_type": "code",
   "execution_count": 131,
   "metadata": {
    "scrolled": true
   },
   "outputs": [
    {
     "data": {
      "text/plain": [
       "CompletedProcess(args='python sample.py --save_dir=models/twitter_relu -n=10000 > models/twitter_relu/long_output.txt', returncode=0)"
      ]
     },
     "execution_count": 131,
     "metadata": {},
     "output_type": "execute_result"
    }
   ],
   "source": [
    "cmd = 'python sample.py --save_dir=models/twitter_relu -n=10000 > models/twitter_relu/long_output.txt'\n",
    "subprocess.run(cmd, shell=True)"
   ]
  },
  {
   "cell_type": "code",
   "execution_count": 132,
   "metadata": {},
   "outputs": [
    {
     "data": {
      "text/plain": [
       "CompletedProcess(args='python sample.py --save_dir=models/twitter_relu_tweak -n=10000 > models/twitter_relu_tweak/long_output.txt', returncode=0)"
      ]
     },
     "execution_count": 132,
     "metadata": {},
     "output_type": "execute_result"
    }
   ],
   "source": [
    "cmd = 'python sample.py --save_dir=models/twitter_relu_tweak -n=10000 > models/twitter_relu_tweak/long_output.txt'\n",
    "subprocess.run(cmd, shell=True)"
   ]
  },
  {
   "cell_type": "code",
   "execution_count": 133,
   "metadata": {},
   "outputs": [
    {
     "data": {
      "text/plain": [
       "CompletedProcess(args='python sample.py --save_dir=models/twitter_relu_tweaked -n=10000 > models/twitter_relu_tweaked/long_output.txt', returncode=0)"
      ]
     },
     "execution_count": 133,
     "metadata": {},
     "output_type": "execute_result"
    }
   ],
   "source": [
    "cmd = 'python sample.py --save_dir=models/twitter_relu_tweaked -n=10000 > models/twitter_relu_tweaked/long_output.txt'\n",
    "subprocess.run(cmd, shell=True)"
   ]
  },
  {
   "cell_type": "code",
   "execution_count": null,
   "metadata": {},
   "outputs": [],
   "source": []
  }
 ],
 "metadata": {
  "kernelspec": {
   "display_name": "Python 3",
   "language": "python",
   "name": "python3"
  },
  "language_info": {
   "codemirror_mode": {
    "name": "ipython",
    "version": 3
   },
   "file_extension": ".py",
   "mimetype": "text/x-python",
   "name": "python",
   "nbconvert_exporter": "python",
   "pygments_lexer": "ipython3",
   "version": "3.7.6"
  }
 },
 "nbformat": 4,
 "nbformat_minor": 4
}
